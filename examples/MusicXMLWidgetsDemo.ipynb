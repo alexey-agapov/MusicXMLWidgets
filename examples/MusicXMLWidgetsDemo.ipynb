{
 "cells": [
  {
   "cell_type": "code",
   "execution_count": null,
   "id": "36cd0367-c4cf-4ce3-97bb-5b80b1175055",
   "metadata": {},
   "outputs": [],
   "source": [
    "!pip install -e .."
   ]
  },
  {
   "cell_type": "code",
   "execution_count": null,
   "id": "12467a0e-ae81-492c-9d28-42d8e18346ab",
   "metadata": {},
   "outputs": [],
   "source": [
    "!pip install music21"
   ]
  },
  {
   "cell_type": "code",
   "execution_count": 1,
   "id": "7155d40d-da97-4d90-91ca-60cfb5ba3a9c",
   "metadata": {},
   "outputs": [
    {
     "name": "stdout",
     "output_type": "stream",
     "text": [
      "['/home/jovyan/examples', '/opt/conda/lib/python311.zip', '/opt/conda/lib/python3.11', '/opt/conda/lib/python3.11/lib-dynload', '', '/opt/conda/lib/python3.11/site-packages', '/home/jovyan', '..']\n"
     ]
    }
   ],
   "source": [
    "import sys\n",
    "sys.path.append('..')\n",
    "print(sys.path)\n"
   ]
  },
  {
   "cell_type": "code",
   "execution_count": 10,
   "id": "acea2058-dde0-44c8-9ec8-22f0d71f03ed",
   "metadata": {},
   "outputs": [
    {
     "data": {
      "text/plain": [
       "Link(source=(MusicXMLViewer(), 'msvalue'), target=(Play(value=0), 'value'))"
      ]
     },
     "execution_count": 10,
     "metadata": {},
     "output_type": "execute_result"
    }
   ],
   "source": [
    "from MusicXMLWidgets import MusicXMLViewer, MusicXMLPlayer\n",
    "import ipywidgets as widgets\n",
    "\n",
    "mxv = MusicXMLViewer()\n",
    "\n",
    "play = widgets.Play()\n",
    "widgets.jslink( (mxv, 'msinterval'), (play, 'interval'))\n",
    "widgets.jslink( (mxv, 'msduration'), (play, 'max'))\n",
    "widgets.jslink( (mxv, 'msinterval'), (play, 'step'))\n",
    "widgets.jslink( (mxv, 'msvalue'), (play, 'value'))\n"
   ]
  },
  {
   "cell_type": "code",
   "execution_count": 11,
   "id": "759cc558-925e-40e9-9353-f59015fb1386",
   "metadata": {},
   "outputs": [
    {
     "data": {
      "application/vnd.jupyter.widget-view+json": {
       "model_id": "db16d084dac5451c83dc1816d84ac4b8",
       "version_major": 2,
       "version_minor": 0
      },
      "text/plain": [
       "VBox(children=(MusicXMLViewer(midi=b\"MThd\\x00\\x00\\x00\\x06\\x00\\x01\\x00\\x03'`MTrk\\x00\\x00\\x00\\x1a\\x00\\xffQ\\x03\\x…"
      ]
     },
     "execution_count": 11,
     "metadata": {},
     "output_type": "execute_result"
    }
   ],
   "source": [
    "fileName = './MozartPianoSonata.musicxml'\n",
    "with open( fileName, 'r', encoding='utf-8') as f:\n",
    "    xml = f.read()\n",
    "\n",
    "mxv.xml = xml\n",
    "widgets.VBox([mxv, play])"
   ]
  },
  {
   "cell_type": "code",
   "execution_count": 3,
   "id": "e98272a3-a54b-42e8-8c5b-5d3aa540586c",
   "metadata": {},
   "outputs": [],
   "source": [
    "fileName = '../spike/complex.xml'\n",
    "with open( fileName, 'r', encoding='utf-8') as f:\n",
    "    xml = f.read()\n",
    "\n",
    "mxv.xml = xml"
   ]
  },
  {
   "cell_type": "code",
   "execution_count": 4,
   "id": "e32b4ef1-7bd8-4782-ab62-b20f40c7e7bb",
   "metadata": {},
   "outputs": [],
   "source": [
    "fileName = './MozartPianoSonata.musicxml'\n",
    "with open( fileName, 'r', encoding='utf-8') as f:\n",
    "    xml = f.read()\n",
    "\n",
    "mxv.xml = xml"
   ]
  },
  {
   "cell_type": "code",
   "execution_count": null,
   "id": "eeb8f193-b8cb-41c5-9056-c3f303048ac9",
   "metadata": {},
   "outputs": [],
   "source": []
  }
 ],
 "metadata": {
  "kernelspec": {
   "display_name": "Python 3 (ipykernel)",
   "language": "python",
   "name": "python3"
  },
  "language_info": {
   "codemirror_mode": {
    "name": "ipython",
    "version": 3
   },
   "file_extension": ".py",
   "mimetype": "text/x-python",
   "name": "python",
   "nbconvert_exporter": "python",
   "pygments_lexer": "ipython3",
   "version": "3.11.6"
  }
 },
 "nbformat": 4,
 "nbformat_minor": 5
}
