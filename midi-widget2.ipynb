{
 "cells": [
  {
   "cell_type": "code",
   "execution_count": 24,
   "id": "8f1dcc98-5293-43fc-a2e2-444a51fe9177",
   "metadata": {},
   "outputs": [],
   "source": [
    "import anywidget\n",
    "import traitlets\n",
    "\n",
    "# Define the import map\n",
    "import_map = {\n",
    "    \"imports\": {\n",
    "        'webaudiofontplayer': 'webaudiofont/npm/dist/WebAudioFontPlayer.js',\n",
    "#        'midifile': '/webaudiofont/examples/MIDIFile.js'    }\n",
    "    }\n",
    "}\n",
    "\n",
    "class MidiWidget(anywidget.AnyWidget):\n",
    "    _esm = \"midi-widget.js\"\n",
    "#    _importmap = import_map\n",
    "    text = traitlets.Unicode(\"Hello!\").tag(sync=True)"
   ]
  },
  {
   "cell_type": "code",
   "execution_count": 25,
   "id": "9d9d62cd-9d7d-4c31-8276-e19f558915f0",
   "metadata": {},
   "outputs": [
    {
     "data": {
      "application/vnd.jupyter.widget-view+json": {
       "model_id": "d85d63da3c8042bc9fe5aa30c5db1871",
       "version_major": 2,
       "version_minor": 1
      },
      "text/plain": [
       "MidiWidget()"
      ]
     },
     "execution_count": 25,
     "metadata": {},
     "output_type": "execute_result"
    }
   ],
   "source": [
    "mw = MidiWidget()\n",
    "mw"
   ]
  },
  {
   "cell_type": "code",
   "execution_count": 23,
   "id": "47e5fc2a-6d3e-4e78-ad60-c68d4a021858",
   "metadata": {},
   "outputs": [],
   "source": [
    "mw.text = 'Hello3'"
   ]
  },
  {
   "cell_type": "code",
   "execution_count": null,
   "id": "ee3e3f04-6a57-41f7-bee7-44150bf5fb92",
   "metadata": {},
   "outputs": [],
   "source": []
  }
 ],
 "metadata": {
  "kernelspec": {
   "display_name": "Python 3 (ipykernel)",
   "language": "python",
   "name": "python3"
  },
  "language_info": {
   "codemirror_mode": {
    "name": "ipython",
    "version": 3
   },
   "file_extension": ".py",
   "mimetype": "text/x-python",
   "name": "python",
   "nbconvert_exporter": "python",
   "pygments_lexer": "ipython3",
   "version": "3.11.6"
  }
 },
 "nbformat": 4,
 "nbformat_minor": 5
}
