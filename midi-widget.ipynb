{
 "cells": [
  {
   "cell_type": "code",
   "execution_count": 1,
   "id": "8f1dcc98-5293-43fc-a2e2-444a51fe9177",
   "metadata": {},
   "outputs": [],
   "source": [
    "import anywidget\n",
    "import traitlets\n",
    "\n",
    "class MidiWidget(anywidget.AnyWidget):\n",
    "    _esm = \"midi-widget.js\"\n",
    "    value = traitlets.Float().tag(sync=True)\n",
    "    duration = traitlets.Float().tag(sync=True)\n",
    "    interval = traitlets.Float().tag(sync=True)\n",
    "\n",
    "    msvalue = traitlets.CInt().tag(sync=True)\n",
    "    msduration = traitlets.CInt().tag(sync=True)\n",
    "    msinterval = traitlets.CInt().tag(sync=True)    \n",
    "    \n",
    "    midi = traitlets.Bytes(\"\").tag(sync=True)"
   ]
  },
  {
   "cell_type": "code",
   "execution_count": 2,
   "id": "9d9d62cd-9d7d-4c31-8276-e19f558915f0",
   "metadata": {},
   "outputs": [
    {
     "data": {
      "application/vnd.jupyter.widget-view+json": {
       "model_id": "7c1ca54c16c34557ac36861d8fee0c6f",
       "version_major": 2,
       "version_minor": 0
      },
      "text/plain": [
       "HBox(children=(MidiWidget(midi=b'MThd\\x00\\x00\\x00\\x06\\x00\\x00\\x00\\x01\\x03\\xc0MTrk\\x00\\x00\\x01R\\x00\\xff\\x03\\x13…"
      ]
     },
     "execution_count": 2,
     "metadata": {},
     "output_type": "execute_result"
    }
   ],
   "source": [
    "import ipywidgets as widgets\n",
    "\n",
    "with open( './webaudiofont/examples/midi/123.mid', 'rb') as f:\n",
    "    mw = MidiWidget( midi = f.read())\n",
    "    \n",
    "play = widgets.Play()\n",
    "widgets.jslink( (mw, 'msinterval'), (play, 'interval'))\n",
    "widgets.jslink( (mw, 'msduration'), (play, 'max'))\n",
    "widgets.jslink( (mw, 'msinterval'), (play, 'step'))\n",
    "widgets.jslink( (mw, 'msvalue'), (play, 'value'))\n",
    "\n",
    "slider = widgets.IntSlider()\n",
    "widgets.jslink((play, 'step'), (slider, 'step'))\n",
    "widgets.jslink((play, 'max'), (slider, 'max'))\n",
    "widgets.jslink((play, 'value'), (slider, 'value'))\n",
    "\n",
    "widgets.HBox([mw, play, slider])"
   ]
  },
  {
   "cell_type": "code",
   "execution_count": 25,
   "id": "47e5fc2a-6d3e-4e78-ad60-c68d4a021858",
   "metadata": {},
   "outputs": [
    {
     "data": {
      "text/plain": [
       "0"
      ]
     },
     "execution_count": 25,
     "metadata": {},
     "output_type": "execute_result"
    }
   ],
   "source": [
    "mw.msvalue"
   ]
  },
  {
   "cell_type": "code",
   "execution_count": null,
   "id": "ee3e3f04-6a57-41f7-bee7-44150bf5fb92",
   "metadata": {},
   "outputs": [],
   "source": []
  }
 ],
 "metadata": {
  "kernelspec": {
   "display_name": "Python 3 (ipykernel)",
   "language": "python",
   "name": "python3"
  },
  "language_info": {
   "codemirror_mode": {
    "name": "ipython",
    "version": 3
   },
   "file_extension": ".py",
   "mimetype": "text/x-python",
   "name": "python",
   "nbconvert_exporter": "python",
   "pygments_lexer": "ipython3",
   "version": "3.11.6"
  }
 },
 "nbformat": 4,
 "nbformat_minor": 5
}
