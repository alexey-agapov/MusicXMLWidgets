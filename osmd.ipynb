{
 "cells": [
  {
   "cell_type": "code",
   "execution_count": 1,
   "metadata": {},
   "outputs": [],
   "source": [
    "def generateMusicXML( note):\n",
    "    musicXML = f\"\"\"<?xml version=\"1.0\" encoding=\"UTF-8\"?>\n",
    "    <score-partwise version=\"3.1\">\n",
    "        <part-list>\n",
    "            <score-part id=\"P1\">\n",
    "                <part-name>Music</part-name>\n",
    "            </score-part>\n",
    "        </part-list>\n",
    "        <part id=\"P1\">\n",
    "            <measure number=\"1\">\n",
    "                <attributes>\n",
    "                    <divisions>1</divisions>\n",
    "                    <key>\n",
    "                        <fifths>0</fifths>\n",
    "                    </key>\n",
    "                    <time>\n",
    "                        <beats>4</beats>\n",
    "                        <beat-type>4</beat-type>\n",
    "                    </time>\n",
    "                    <clef>\n",
    "                        <sign>G</sign>\n",
    "                        <line>2</line>\n",
    "                    </clef>\n",
    "                </attributes>\n",
    "                <note>\n",
    "                    <pitch>\n",
    "                        <step>{note}</step>\n",
    "                        <octave>4</octave>\n",
    "                    </pitch>\n",
    "                    <duration>1</duration>\n",
    "                    <type>quarter</type>\n",
    "                </note>\n",
    "            </measure>\n",
    "        </part>\n",
    "    </score-partwise>\n",
    "    \"\"\"\n",
    "    return musicXML\n"
   ]
  },
  {
   "cell_type": "code",
   "execution_count": 2,
   "metadata": {},
   "outputs": [
    {
     "data": {
      "application/vnd.jupyter.widget-view+json": {
       "model_id": "4570afb33e37465d8493936e6dd21a44",
       "version_major": 2,
       "version_minor": 1
      },
      "text/plain": [
       "OSMDWidget(xml='<?xml version=\"1.0\" encoding=\"UTF-8\"?>\\n    <score-partwise version=\"3.1\">\\n        <part-list…"
      ]
     },
     "execution_count": 2,
     "metadata": {},
     "output_type": "execute_result"
    }
   ],
   "source": [
    "import anywidget\n",
    "import traitlets\n",
    "\n",
    "from IPython.display import display\n",
    "\n",
    "class OSMDWidget(anywidget.AnyWidget):\n",
    "    _esm = \"index.js\"\n",
    "    xml = traitlets.Unicode(\"\").tag(sync=True)\n",
    "\n",
    "\n",
    "# Create an instance of the widget\n",
    "ow = OSMDWidget()\n",
    "ow.xml = generateMusicXML( 'G')\n",
    "ow"
   ]
  },
  {
   "cell_type": "code",
   "execution_count": 3,
   "metadata": {},
   "outputs": [
    {
     "data": {
      "application/vnd.jupyter.widget-view+json": {
       "model_id": "aed729af42f44f5398a47b5ea66fca20",
       "version_major": 2,
       "version_minor": 1
      },
      "text/plain": [
       "OSMDWidget(xml='<?xml version=\"1.0\" encoding=\"UTF-8\"?>\\n    <score-partwise version=\"3.1\">\\n        <part-list…"
      ]
     },
     "execution_count": 3,
     "metadata": {},
     "output_type": "execute_result"
    }
   ],
   "source": [
    "ow2 = OSMDWidget()\n",
    "ow2.xml = generateMusicXML( 'G')\n",
    "ow2"
   ]
  },
  {
   "cell_type": "code",
   "execution_count": 13,
   "metadata": {},
   "outputs": [],
   "source": [
    "ow.xml = generateMusicXML( 'B')"
   ]
  },
  {
   "cell_type": "code",
   "execution_count": null,
   "metadata": {},
   "outputs": [],
   "source": []
  }
 ],
 "metadata": {
  "kernelspec": {
   "display_name": "Python 3 (ipykernel)",
   "language": "python",
   "name": "python3"
  },
  "language_info": {
   "codemirror_mode": {
    "name": "ipython",
    "version": 3
   },
   "file_extension": ".py",
   "mimetype": "text/x-python",
   "name": "python",
   "nbconvert_exporter": "python",
   "pygments_lexer": "ipython3",
   "version": "3.11.6"
  }
 },
 "nbformat": 4,
 "nbformat_minor": 4
}
