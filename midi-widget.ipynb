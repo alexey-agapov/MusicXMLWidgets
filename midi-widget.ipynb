{
 "cells": [
  {
   "cell_type": "code",
   "execution_count": 3,
   "metadata": {},
   "outputs": [],
   "source": [
    "from __future__ import print_function\n",
    "import ipywidgets as widgets\n",
    "from traitlets import Unicode, validate, CBytes, Float\n",
    "\n",
    "class HelloWidget(widgets.DOMWidget):\n",
    "    _view_name = Unicode('HelloView').tag(sync=True)\n",
    "    _view_module = Unicode('hello').tag(sync=True)\n",
    "    _view_module_version = Unicode('0.1.0').tag(sync=True)\n",
    "    value = Unicode('Hello World!').tag(sync=True)\n",
    "    duration = Float().tag(sync=True)\n",
    "    interval = Float().tag(sync=True)\n",
    "    midi = CBytes().tag(sync=True)"
   ]
  },
  {
   "cell_type": "code",
   "execution_count": 4,
   "metadata": {},
   "outputs": [
    {
     "data": {
      "application/javascript": [
       "require.config({\n",
       "    paths: {\n",
       "        webaudiofontplayer: '../files/webaudiofont/npm/dist/WebAudioFontPlayer',\n",
       "        midifile: '../files/webaudiofont/examples/MIDIFile'\n",
       "    }\n",
       "});\n"
      ],
      "text/plain": [
       "<IPython.core.display.Javascript object>"
      ]
     },
     "metadata": {},
     "output_type": "display_data"
    }
   ],
   "source": [
    "%%javascript\n",
    "require.config({\n",
    "    paths: {\n",
    "        webaudiofontplayer: '../files/webaudiofont/npm/dist/WebAudioFontPlayer',\n",
    "        midifile: '../files/webaudiofont/examples/MIDIFile'\n",
    "    }\n",
    "});"
   ]
  },
  {
   "cell_type": "code",
   "execution_count": 5,
   "metadata": {},
   "outputs": [
    {
     "data": {
      "application/javascript": [
       "require.undef('hello');\n",
       "\n",
       "define('hello', [\"@jupyter-widgets/base\", \n",
       "                 'webaudiofontplayer', \n",
       "                 'midifile'], function(widgets) {\n",
       "\n",
       "    var audioContext = null;\n",
       "    var player = null;\n",
       "    var reverberator = null;\n",
       "    var songStart = 0;\n",
       "    var input = null;\n",
       "    var currentSongTime = 0;\n",
       "    var nextStepTime = 0;\n",
       "    var nextPositionTime = 0;\n",
       "    var loadedsong = null;\n",
       "    var stepDuration = 44;\n",
       "\n",
       "    var HelloView = widgets.DOMWidgetView.extend({\n",
       "\n",
       "        render: function() {\n",
       "            this.value_changed();\n",
       "            this.model.on('change:value', this.value_changed, this);\n",
       "            this.midi_changed();\n",
       "            this.model.on('change:midi', this.midi_changed, this);\n",
       "        },\n",
       "\n",
       "        value_changed: function() {\n",
       "            this.el.textContent = this.model.get('value');\n",
       "        },\n",
       "        \n",
       "        midi_changed: function() {\n",
       "            var midi = this.model.get('midi').buffer;\n",
       "            var midiFile = new MIDIFile( midi);\n",
       "            loadedsong = midiFile.parseSong();\n",
       "            this.startLoad( loadedsong)\n",
       "            this.updateModel()\n",
       "        },\n",
       "\n",
       "        updateModel: function(){\n",
       "            this.model.set('duration', loadedsong.duration)\n",
       "            this.model.set('interval', stepDuration)\n",
       "        },\n",
       "        \n",
       "        startLoad: function(song) {\n",
       "            console.log(song);\n",
       "            var AudioContextFunc = window.AudioContext || window.webkitAudioContext;\n",
       "            audioContext = new AudioContextFunc();\n",
       "            player = new WebAudioFontPlayer();\n",
       "            reverberator = player.createReverberator(audioContext);\n",
       "            reverberator.output.connect(audioContext.destination);\n",
       "            input = reverberator.input;\n",
       "            for (var i = 0; i < song.tracks.length; i++) {\n",
       "                var nn = player.loader.findInstrument(song.tracks[i].program);\n",
       "                var info = player.loader.instrumentInfo(nn);\n",
       "                song.tracks[i].info = info;\n",
       "                song.tracks[i].id = nn;\n",
       "                player.loader.startLoad(audioContext, info.url, info.variable);\n",
       "            }\n",
       "            for (var i = 0; i < song.beats.length; i++) {\n",
       "                var nn = player.loader.findDrum(song.beats[i].n);\n",
       "                var info = player.loader.drumInfo(nn);\n",
       "                song.beats[i].info = info;\n",
       "                song.beats[i].id = nn;\n",
       "                player.loader.startLoad(audioContext, info.url, info.variable);\n",
       "            }\n",
       "            player.loader.waitLoad(function () {\n",
       "            });\n",
       "        },\n",
       "\n",
       "    });\n",
       "\n",
       "    return {\n",
       "        HelloView : HelloView\n",
       "    };\n",
       "});\n"
      ],
      "text/plain": [
       "<IPython.core.display.Javascript object>"
      ]
     },
     "metadata": {},
     "output_type": "display_data"
    }
   ],
   "source": [
    "%%javascript\n",
    "require.undef('hello');\n",
    "\n",
    "define('hello', [\"@jupyter-widgets/base\", \n",
    "                 'webaudiofontplayer', \n",
    "                 'midifile'], function(widgets) {\n",
    "\n",
    "    var audioContext = null;\n",
    "    var player = null;\n",
    "    var reverberator = null;\n",
    "    var songStart = 0;\n",
    "    var input = null;\n",
    "    var currentSongTime = 0;\n",
    "    var nextStepTime = 0;\n",
    "    var nextPositionTime = 0;\n",
    "    var loadedsong = null;\n",
    "    var stepDuration = 44;\n",
    "\n",
    "    var HelloView = widgets.DOMWidgetView.extend({\n",
    "\n",
    "        render: function() {\n",
    "            this.value_changed();\n",
    "            this.model.on('change:value', this.value_changed, this);\n",
    "            this.midi_changed();\n",
    "            this.model.on('change:midi', this.midi_changed, this);\n",
    "        },\n",
    "\n",
    "        value_changed: function() {\n",
    "            this.el.textContent = this.model.get('value');\n",
    "        },\n",
    "        \n",
    "        midi_changed: function() {\n",
    "            var midi = this.model.get('midi').buffer;\n",
    "            var midiFile = new MIDIFile( midi);\n",
    "            loadedsong = midiFile.parseSong();\n",
    "            this.startLoad( loadedsong)\n",
    "            this.updateModel()\n",
    "        },\n",
    "\n",
    "        updateModel: function(){\n",
    "            this.model.set('duration', loadedsong.duration)\n",
    "            this.model.set('interval', stepDuration)\n",
    "        },\n",
    "        \n",
    "        startLoad: function(song) {\n",
    "            console.log(song);\n",
    "            var AudioContextFunc = window.AudioContext || window.webkitAudioContext;\n",
    "            audioContext = new AudioContextFunc();\n",
    "            player = new WebAudioFontPlayer();\n",
    "            reverberator = player.createReverberator(audioContext);\n",
    "            reverberator.output.connect(audioContext.destination);\n",
    "            input = reverberator.input;\n",
    "            for (var i = 0; i < song.tracks.length; i++) {\n",
    "                var nn = player.loader.findInstrument(song.tracks[i].program);\n",
    "                var info = player.loader.instrumentInfo(nn);\n",
    "                song.tracks[i].info = info;\n",
    "                song.tracks[i].id = nn;\n",
    "                player.loader.startLoad(audioContext, info.url, info.variable);\n",
    "            }\n",
    "            for (var i = 0; i < song.beats.length; i++) {\n",
    "                var nn = player.loader.findDrum(song.beats[i].n);\n",
    "                var info = player.loader.drumInfo(nn);\n",
    "                song.beats[i].info = info;\n",
    "                song.beats[i].id = nn;\n",
    "                player.loader.startLoad(audioContext, info.url, info.variable);\n",
    "            }\n",
    "            player.loader.waitLoad(function () {\n",
    "            });\n",
    "        },\n",
    "\n",
    "    });\n",
    "\n",
    "    return {\n",
    "        HelloView : HelloView\n",
    "    };\n",
    "});"
   ]
  },
  {
   "cell_type": "code",
   "execution_count": 11,
   "metadata": {},
   "outputs": [
    {
     "data": {
      "application/vnd.jupyter.widget-view+json": {
       "model_id": "8d3b8dd0f3d544e395257209b607b3ca",
       "version_major": 2,
       "version_minor": 0
      },
      "text/plain": [
       "VBox(children=(Play(value=0, interval=2000, step=3), FloatSlider(value=0.0), HelloWidget(midi=b'MThd\\x00\\x00\\x…"
      ]
     },
     "metadata": {},
     "output_type": "display_data"
    }
   ],
   "source": [
    "with open( './webaudiofont/examples/midi/123.mid', 'rb') as f:\n",
    "    w = HelloWidget( midi = f.read())\n",
    "\n",
    "play = widgets.Play( max=100, step=3.5, interval=2000)\n",
    "slider = widgets.FloatSlider()\n",
    "#widgets.jslink((w, 'duration'), (play, 'max'))\n",
    "#widgets.jslink((w, 'duration'), (slider, 'max'))\n",
    "#widgets.jslink((w, 'interval'), (play, 'interval'))\n",
    "widgets.jslink((play, 'value'), (slider, 'value'))\n",
    "widgets.VBox([play, slider, w])"
   ]
  },
  {
   "cell_type": "code",
   "execution_count": 7,
   "metadata": {},
   "outputs": [],
   "source": [
    "w.value = 'test'"
   ]
  },
  {
   "cell_type": "code",
   "execution_count": null,
   "metadata": {},
   "outputs": [],
   "source": []
  }
 ],
 "metadata": {
  "kernelspec": {
   "display_name": "Python 3",
   "language": "python",
   "name": "python3"
  },
  "language_info": {
   "codemirror_mode": {
    "name": "ipython",
    "version": 3
   },
   "file_extension": ".py",
   "mimetype": "text/x-python",
   "name": "python",
   "nbconvert_exporter": "python",
   "pygments_lexer": "ipython3",
   "version": "3.7.3"
  }
 },
 "nbformat": 4,
 "nbformat_minor": 2
}
