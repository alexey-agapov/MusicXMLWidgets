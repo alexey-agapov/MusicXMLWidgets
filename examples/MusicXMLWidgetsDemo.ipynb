{
 "cells": [
  {
   "cell_type": "code",
   "execution_count": null,
   "id": "36cd0367-c4cf-4ce3-97bb-5b80b1175055",
   "metadata": {},
   "outputs": [],
   "source": [
    "!pip install -e ."
   ]
  },
  {
   "cell_type": "code",
   "execution_count": 9,
   "id": "e72224a0-0b4e-43a9-a5c1-39138d04e225",
   "metadata": {},
   "outputs": [],
   "source": [
    "def generateMusicXML( note):\n",
    "    musicXML = f\"\"\"<?xml version=\"1.0\" encoding=\"UTF-8\"?>\n",
    "    <score-partwise version=\"3.1\">\n",
    "        <part-list>\n",
    "            <score-part id=\"P1\">\n",
    "                <part-name>Music</part-name>\n",
    "            </score-part>\n",
    "        </part-list>\n",
    "        <part id=\"P1\">\n",
    "            <measure number=\"1\">\n",
    "                <attributes>\n",
    "                    <divisions>1</divisions>\n",
    "                    <key>\n",
    "                        <fifths>0</fifths>\n",
    "                    </key>\n",
    "                    <time>\n",
    "                        <beats>4</beats>\n",
    "                        <beat-type>4</beat-type>\n",
    "                    </time>\n",
    "                    <clef>\n",
    "                        <sign>G</sign>\n",
    "                        <line>2</line>\n",
    "                    </clef>\n",
    "                </attributes>\n",
    "                <note>\n",
    "                    <pitch>\n",
    "                        <step>{note}</step>\n",
    "                        <octave>4</octave>\n",
    "                    </pitch>\n",
    "                    <duration>1</duration>\n",
    "                    <type>quarter</type>\n",
    "                </note>\n",
    "            </measure>\n",
    "        </part>\n",
    "    </score-partwise>\n",
    "    \"\"\"\n",
    "    return musicXML"
   ]
  },
  {
   "cell_type": "code",
   "execution_count": 10,
   "id": "acea2058-dde0-44c8-9ec8-22f0d71f03ed",
   "metadata": {},
   "outputs": [
    {
     "data": {
      "application/vnd.jupyter.widget-view+json": {
       "model_id": "4e2c47fbab984af0912dfe1e4d641618",
       "version_major": 2,
       "version_minor": 1
      },
      "text/plain": [
       "MusicXMLViewer(xml='<?xml version=\"1.0\" encoding=\"UTF-8\"?>\\n    <score-partwise version=\"3.1\">\\n        <part-…"
      ]
     },
     "execution_count": 10,
     "metadata": {},
     "output_type": "execute_result"
    }
   ],
   "source": [
    "from MusicXMLWidgets import MusicXMLViewer\n",
    "mxv = MusicXMLViewer()\n",
    "mxv.xml = generateMusicXML( 'G')\n",
    "mxv\n"
   ]
  },
  {
   "cell_type": "code",
   "execution_count": 11,
   "id": "c24b6a5a-c788-434c-8d64-bc2ef92aead9",
   "metadata": {},
   "outputs": [],
   "source": [
    "mxv.xml = generateMusicXML( 'D')"
   ]
  },
  {
   "cell_type": "code",
   "execution_count": 12,
   "id": "91d9a8ef-f184-4063-a714-1d1ffa0046f7",
   "metadata": {},
   "outputs": [
    {
     "data": {
      "application/vnd.jupyter.widget-view+json": {
       "model_id": "0ba56b1e12d34b778bc7baba206b28d6",
       "version_major": 2,
       "version_minor": 0
      },
      "text/plain": [
       "HBox(children=(MusicXMLPlayer(midi=b'MThd\\x00\\x00\\x00\\x06\\x00\\x01\\x00\\t\\x01\\xe0MTrk\\x00\\x00\\x00P\\x00\\xff\\x02*C…"
      ]
     },
     "execution_count": 12,
     "metadata": {},
     "output_type": "execute_result"
    }
   ],
   "source": [
    "import ipywidgets as widgets\n",
    "from MusicXMLWidgets import MusicXMLPlayer\n",
    "\n",
    "with open( './jazz2a.mid', 'rb') as f:\n",
    "    mw = MusicXMLPlayer( midi = f.read())\n",
    "    \n",
    "play = widgets.Play()\n",
    "widgets.jslink( (mw, 'msinterval'), (play, 'interval'))\n",
    "widgets.jslink( (mw, 'msduration'), (play, 'max'))\n",
    "widgets.jslink( (mw, 'msinterval'), (play, 'step'))\n",
    "widgets.jslink( (mw, 'msvalue'), (play, 'value'))\n",
    "\n",
    "slider = widgets.IntSlider()\n",
    "widgets.jslink((play, 'step'), (slider, 'step'))\n",
    "widgets.jslink((play, 'max'), (slider, 'max'))\n",
    "widgets.jslink((play, 'value'), (slider, 'value'))\n",
    "\n",
    "widgets.HBox([mw, play, slider])"
   ]
  },
  {
   "cell_type": "code",
   "execution_count": null,
   "id": "cfbb4e25-a113-45f6-b7c7-a986f78c6e10",
   "metadata": {},
   "outputs": [],
   "source": []
  }
 ],
 "metadata": {
  "kernelspec": {
   "display_name": "Python 3 (ipykernel)",
   "language": "python",
   "name": "python3"
  },
  "language_info": {
   "codemirror_mode": {
    "name": "ipython",
    "version": 3
   },
   "file_extension": ".py",
   "mimetype": "text/x-python",
   "name": "python",
   "nbconvert_exporter": "python",
   "pygments_lexer": "ipython3",
   "version": "3.11.6"
  }
 },
 "nbformat": 4,
 "nbformat_minor": 5
}
