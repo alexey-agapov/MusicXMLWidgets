{
 "cells": [
  {
   "cell_type": "code",
   "execution_count": null,
   "id": "36cd0367-c4cf-4ce3-97bb-5b80b1175055",
   "metadata": {},
   "outputs": [],
   "source": [
    "!pip install -e .."
   ]
  },
  {
   "cell_type": "code",
   "execution_count": null,
   "id": "12467a0e-ae81-492c-9d28-42d8e18346ab",
   "metadata": {},
   "outputs": [],
   "source": [
    "!pip install music21"
   ]
  },
  {
   "cell_type": "code",
   "execution_count": 1,
   "id": "7155d40d-da97-4d90-91ca-60cfb5ba3a9c",
   "metadata": {},
   "outputs": [
    {
     "name": "stdout",
     "output_type": "stream",
     "text": [
      "['/home/jovyan/examples', '/opt/conda/lib/python311.zip', '/opt/conda/lib/python3.11', '/opt/conda/lib/python3.11/lib-dynload', '', '/opt/conda/lib/python3.11/site-packages', '/home/jovyan', '..']\n"
     ]
    }
   ],
   "source": [
    "import sys\n",
    "sys.path.append('..')\n",
    "print(sys.path)\n"
   ]
  },
  {
   "cell_type": "code",
   "execution_count": 9,
   "id": "acea2058-dde0-44c8-9ec8-22f0d71f03ed",
   "metadata": {},
   "outputs": [
    {
     "data": {
      "application/vnd.jupyter.widget-view+json": {
       "model_id": "d5589bfe9b944414addfca71e1055c59",
       "version_major": 2,
       "version_minor": 0
      },
      "text/plain": [
       "VBox(children=(MusicXMLViewer(xml='<?xml version=\"1.0\" encoding=\"UTF-8\" standalone=\"no\"?>\\n<!DOCTYPE score-par…"
      ]
     },
     "execution_count": 9,
     "metadata": {},
     "output_type": "execute_result"
    }
   ],
   "source": [
    "from MusicXMLWidgets import MusicXMLViewer, MusicXMLPlayer\n",
    "import ipywidgets as widgets\n",
    "\n",
    "fileName = '../spike/simple.xml'\n",
    "fileName = './MozartPianoSonata.musicxml'\n",
    "with open( fileName, 'r', encoding='utf-8') as f:\n",
    "    xml = f.read()\n",
    "\n",
    "mxv = MusicXMLViewer()\n",
    "mxp = MusicXMLPlayer()\n",
    "#widgets.jslink( (mxp, 'xml'), (mxv, 'xml'))\n",
    "widgets.jslink( (mxp, 'msvalue'), (mxv, 'msvalue'))\n",
    "\n",
    "\n",
    "play = widgets.Play()\n",
    "widgets.jslink( (mxp, 'msinterval'), (play, 'interval'))\n",
    "widgets.jslink( (mxp, 'msduration'), (play, 'max'))\n",
    "widgets.jslink( (mxp, 'msinterval'), (play, 'step'))\n",
    "widgets.jslink( (mxp, 'msvalue'), (play, 'value'))\n",
    "\n",
    "mxp.xml = xml\n",
    "mxv.xml = xml\n",
    "\n",
    "widgets.VBox([mxv, mxp, play])"
   ]
  },
  {
   "cell_type": "code",
   "execution_count": 10,
   "id": "e98272a3-a54b-42e8-8c5b-5d3aa540586c",
   "metadata": {},
   "outputs": [],
   "source": [
    "fileName = '../spike/simple.xml'\n",
    "with open( fileName, 'r', encoding='utf-8') as f:\n",
    "    xml = f.read()\n",
    "\n",
    "mxp.xml = xml\n",
    "mxv.xml = xml\n"
   ]
  },
  {
   "cell_type": "code",
   "execution_count": 5,
   "id": "e32b4ef1-7bd8-4782-ab62-b20f40c7e7bb",
   "metadata": {},
   "outputs": [
    {
     "data": {
      "text/plain": [
       "0.0"
      ]
     },
     "execution_count": 5,
     "metadata": {},
     "output_type": "execute_result"
    }
   ],
   "source": [
    "mxv.msvalue"
   ]
  },
  {
   "cell_type": "code",
   "execution_count": null,
   "id": "eeb8f193-b8cb-41c5-9056-c3f303048ac9",
   "metadata": {},
   "outputs": [],
   "source": []
  }
 ],
 "metadata": {
  "kernelspec": {
   "display_name": "Python 3 (ipykernel)",
   "language": "python",
   "name": "python3"
  },
  "language_info": {
   "codemirror_mode": {
    "name": "ipython",
    "version": 3
   },
   "file_extension": ".py",
   "mimetype": "text/x-python",
   "name": "python",
   "nbconvert_exporter": "python",
   "pygments_lexer": "ipython3",
   "version": "3.11.6"
  }
 },
 "nbformat": 4,
 "nbformat_minor": 5
}
