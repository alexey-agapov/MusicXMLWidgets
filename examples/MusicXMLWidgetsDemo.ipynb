{
 "cells": [
  {
   "cell_type": "code",
   "execution_count": null,
   "id": "36cd0367-c4cf-4ce3-97bb-5b80b1175055",
   "metadata": {},
   "outputs": [],
   "source": [
    "!pip install -e .."
   ]
  },
  {
   "cell_type": "code",
   "execution_count": null,
   "id": "12467a0e-ae81-492c-9d28-42d8e18346ab",
   "metadata": {},
   "outputs": [],
   "source": [
    "!pip install music21"
   ]
  },
  {
   "cell_type": "code",
   "execution_count": 1,
   "id": "7155d40d-da97-4d90-91ca-60cfb5ba3a9c",
   "metadata": {},
   "outputs": [
    {
     "name": "stdout",
     "output_type": "stream",
     "text": [
      "['/home/jovyan/examples', '/opt/conda/lib/python311.zip', '/opt/conda/lib/python3.11', '/opt/conda/lib/python3.11/lib-dynload', '', '/opt/conda/lib/python3.11/site-packages', '/home/jovyan', '..']\n"
     ]
    }
   ],
   "source": [
    "import sys\n",
    "sys.path.append('..')\n",
    "print(sys.path)\n"
   ]
  },
  {
   "cell_type": "code",
   "execution_count": 1,
   "id": "acea2058-dde0-44c8-9ec8-22f0d71f03ed",
   "metadata": {},
   "outputs": [
    {
     "data": {
      "application/vnd.jupyter.widget-view+json": {
       "model_id": "671f00899732407588018944eb72eb6e",
       "version_major": 2,
       "version_minor": 0
      },
      "text/plain": [
       "VBox(children=(MusicXMLViewer(xml='<?xml version=\"1.0\" encoding=\"UTF-8\" standalone=\"no\"?>\\n<!DOCTYPE score-par…"
      ]
     },
     "execution_count": 1,
     "metadata": {},
     "output_type": "execute_result"
    }
   ],
   "source": [
    "from MusicXMLWidgets import MusicXMLViewer, MusicXMLPlayer\n",
    "import ipywidgets as widgets\n",
    "\n",
    "with open( './MozartPianoSonata.musicxml', 'r', encoding='utf-8') as f:\n",
    "    xml = f.read()\n",
    "\n",
    "mxv = MusicXMLViewer()\n",
    "mxv.xml = xml\n",
    "mxp = MusicXMLPlayer()\n",
    "mxp.xml = xml\n",
    "\n",
    "play = widgets.Play()\n",
    "widgets.jslink( (mxp, 'msinterval'), (play, 'interval'))\n",
    "widgets.jslink( (mxp, 'msduration'), (play, 'max'))\n",
    "widgets.jslink( (mxp, 'msinterval'), (play, 'step'))\n",
    "widgets.jslink( (mxp, 'msvalue'), (play, 'value'))\n",
    "\n",
    "slider = widgets.IntSlider()\n",
    "widgets.jslink((play, 'step'), (slider, 'step'))\n",
    "widgets.jslink((play, 'max'), (slider, 'max'))\n",
    "widgets.jslink((play, 'value'), (slider, 'value'))\n",
    "\n",
    "\n",
    "widgets.VBox([mxv,mxp, play, slider])"
   ]
  },
  {
   "cell_type": "code",
   "execution_count": 12,
   "id": "e98272a3-a54b-42e8-8c5b-5d3aa540586c",
   "metadata": {},
   "outputs": [
    {
     "data": {
      "text/plain": [
       "2.375"
      ]
     },
     "execution_count": 12,
     "metadata": {},
     "output_type": "execute_result"
    }
   ],
   "source": [
    "(5000) * 120 / 60000 / 4 - 0.125"
   ]
  }
 ],
 "metadata": {
  "kernelspec": {
   "display_name": "Python 3 (ipykernel)",
   "language": "python",
   "name": "python3"
  },
  "language_info": {
   "codemirror_mode": {
    "name": "ipython",
    "version": 3
   },
   "file_extension": ".py",
   "mimetype": "text/x-python",
   "name": "python",
   "nbconvert_exporter": "python",
   "pygments_lexer": "ipython3",
   "version": "3.11.6"
  }
 },
 "nbformat": 4,
 "nbformat_minor": 5
}
