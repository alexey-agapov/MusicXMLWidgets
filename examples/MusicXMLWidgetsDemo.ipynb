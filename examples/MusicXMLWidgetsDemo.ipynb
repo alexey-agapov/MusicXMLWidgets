{
 "cells": [
  {
   "cell_type": "code",
   "execution_count": null,
   "id": "36cd0367-c4cf-4ce3-97bb-5b80b1175055",
   "metadata": {},
   "outputs": [],
   "source": [
    "!pip install -e .."
   ]
  },
  {
   "cell_type": "code",
   "execution_count": null,
   "id": "12467a0e-ae81-492c-9d28-42d8e18346ab",
   "metadata": {},
   "outputs": [],
   "source": [
    "!pip install music21"
   ]
  },
  {
   "cell_type": "code",
   "execution_count": 1,
   "id": "7155d40d-da97-4d90-91ca-60cfb5ba3a9c",
   "metadata": {},
   "outputs": [
    {
     "name": "stdout",
     "output_type": "stream",
     "text": [
      "['/home/jovyan/examples', '/opt/conda/lib/python311.zip', '/opt/conda/lib/python3.11', '/opt/conda/lib/python3.11/lib-dynload', '', '/opt/conda/lib/python3.11/site-packages', '/home/jovyan', '..']\n"
     ]
    }
   ],
   "source": [
    "import sys\n",
    "sys.path.append('..')\n",
    "print(sys.path)\n"
   ]
  },
  {
   "cell_type": "code",
   "execution_count": 5,
   "id": "acea2058-dde0-44c8-9ec8-22f0d71f03ed",
   "metadata": {},
   "outputs": [
    {
     "data": {
      "application/vnd.jupyter.widget-view+json": {
       "model_id": "cb5c236b895f413f8d557fb72808c1e4",
       "version_major": 2,
       "version_minor": 0
      },
      "text/plain": [
       "VBox(children=(MusicXMLViewer(), Play(value=0)))"
      ]
     },
     "execution_count": 5,
     "metadata": {},
     "output_type": "execute_result"
    }
   ],
   "source": [
    "from MusicXMLWidgets import MusicXMLViewer\n",
    "import ipywidgets as widgets\n",
    "\n",
    "mxv = MusicXMLViewer()\n",
    "\n",
    "play = widgets.Play()\n",
    "widgets.jslink( (mxv, 'msinterval'), (play, 'interval'))\n",
    "widgets.jslink( (mxv, 'msduration'), (play, 'max'))\n",
    "widgets.jslink( (mxv, 'msinterval'), (play, 'step'))\n",
    "widgets.jslink( (mxv, 'msvalue'), (play, 'value'))\n",
    "widgets.VBox([mxv, play])"
   ]
  },
  {
   "cell_type": "code",
   "execution_count": 1,
   "id": "71de1831-e6e8-446b-bd52-cd1a876a45fd",
   "metadata": {},
   "outputs": [],
   "source": [
    "from MusicXMLWidgets import MusicXMLViewer\n",
    "mxv = MusicXMLViewer()\n",
    "mxv"
   ]
  },
  {
   "cell_type": "code",
   "execution_count": 4,
   "id": "28f28d80-885b-41af-8bf8-ada980fa4d9d",
   "metadata": {},
   "outputs": [
    {
     "data": {
      "application/vnd.jupyter.widget-view+json": {
       "model_id": "60e413f703974ffab80e95e861dd9d48",
       "version_major": 2,
       "version_minor": 0
      },
      "text/plain": [
       "VBox(children=(MusicXMLViewer(), Play(value=0, interval=0, max=0, step=0)))"
      ]
     },
     "execution_count": 4,
     "metadata": {},
     "output_type": "execute_result"
    }
   ],
   "source": [
    "mxv.container"
   ]
  },
  {
   "cell_type": "code",
   "execution_count": 5,
   "id": "e98272a3-a54b-42e8-8c5b-5d3aa540586c",
   "metadata": {},
   "outputs": [],
   "source": [
    "fileName = '../spike/complex.xml'\n",
    "with open( fileName, 'r', encoding='utf-8') as f:\n",
    "    xml = f.read()\n",
    "\n",
    "mxv.xml = xml"
   ]
  },
  {
   "cell_type": "code",
   "execution_count": 3,
   "id": "e32b4ef1-7bd8-4782-ab62-b20f40c7e7bb",
   "metadata": {},
   "outputs": [],
   "source": [
    "fileName = './MozartPianoSonata.musicxml'\n",
    "with open( fileName, 'r', encoding='utf-8') as f:\n",
    "    xml = f.read()\n",
    "\n",
    "mxv.xml = xml"
   ]
  },
  {
   "cell_type": "code",
   "execution_count": 5,
   "id": "eeb8f193-b8cb-41c5-9056-c3f303048ac9",
   "metadata": {},
   "outputs": [],
   "source": [
    "mxv.p2 = \"qu\""
   ]
  },
  {
   "cell_type": "code",
   "execution_count": 6,
   "id": "f5b239b5-55a6-4f33-9197-3285018af415",
   "metadata": {},
   "outputs": [
    {
     "data": {
      "text/plain": [
       "('qu from p2', 'qu')"
      ]
     },
     "execution_count": 6,
     "metadata": {},
     "output_type": "execute_result"
    }
   ],
   "source": [
    "mxv.p1, mxv.p2"
   ]
  }
 ],
 "metadata": {
  "kernelspec": {
   "display_name": "Python 3 (ipykernel)",
   "language": "python",
   "name": "python3"
  },
  "language_info": {
   "codemirror_mode": {
    "name": "ipython",
    "version": 3
   },
   "file_extension": ".py",
   "mimetype": "text/x-python",
   "name": "python",
   "nbconvert_exporter": "python",
   "pygments_lexer": "ipython3",
   "version": "3.11.6"
  }
 },
 "nbformat": 4,
 "nbformat_minor": 5
}
