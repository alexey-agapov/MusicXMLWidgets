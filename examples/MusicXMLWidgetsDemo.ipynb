{
 "cells": [
  {
   "cell_type": "code",
   "execution_count": 1,
   "id": "36cd0367-c4cf-4ce3-97bb-5b80b1175055",
   "metadata": {},
   "outputs": [
    {
     "name": "stdout",
     "output_type": "stream",
     "text": [
      "Obtaining file:///home/jovyan/work\n",
      "  Preparing metadata (setup.py) ... \u001b[?25ldone\n",
      "\u001b[?25hRequirement already satisfied: anywidget in /opt/conda/lib/python3.11/site-packages (from MusicXMLWidgets==0.1.0) (0.9.13)\n",
      "Requirement already satisfied: ipywidgets>=7.6.0 in /opt/conda/lib/python3.11/site-packages (from anywidget->MusicXMLWidgets==0.1.0) (8.1.5)\n",
      "Requirement already satisfied: psygnal>=0.8.1 in /opt/conda/lib/python3.11/site-packages (from anywidget->MusicXMLWidgets==0.1.0) (0.11.1)\n",
      "Requirement already satisfied: typing-extensions>=4.2.0 in /opt/conda/lib/python3.11/site-packages (from anywidget->MusicXMLWidgets==0.1.0) (4.8.0)\n",
      "Requirement already satisfied: comm>=0.1.3 in /opt/conda/lib/python3.11/site-packages (from ipywidgets>=7.6.0->anywidget->MusicXMLWidgets==0.1.0) (0.1.4)\n",
      "Requirement already satisfied: ipython>=6.1.0 in /opt/conda/lib/python3.11/site-packages (from ipywidgets>=7.6.0->anywidget->MusicXMLWidgets==0.1.0) (8.16.1)\n",
      "Requirement already satisfied: traitlets>=4.3.1 in /opt/conda/lib/python3.11/site-packages (from ipywidgets>=7.6.0->anywidget->MusicXMLWidgets==0.1.0) (5.11.2)\n",
      "Requirement already satisfied: widgetsnbextension~=4.0.12 in /opt/conda/lib/python3.11/site-packages (from ipywidgets>=7.6.0->anywidget->MusicXMLWidgets==0.1.0) (4.0.13)\n",
      "Requirement already satisfied: jupyterlab-widgets~=3.0.12 in /opt/conda/lib/python3.11/site-packages (from ipywidgets>=7.6.0->anywidget->MusicXMLWidgets==0.1.0) (3.0.13)\n",
      "Requirement already satisfied: backcall in /opt/conda/lib/python3.11/site-packages (from ipython>=6.1.0->ipywidgets>=7.6.0->anywidget->MusicXMLWidgets==0.1.0) (0.2.0)\n",
      "Requirement already satisfied: decorator in /opt/conda/lib/python3.11/site-packages (from ipython>=6.1.0->ipywidgets>=7.6.0->anywidget->MusicXMLWidgets==0.1.0) (5.1.1)\n",
      "Requirement already satisfied: jedi>=0.16 in /opt/conda/lib/python3.11/site-packages (from ipython>=6.1.0->ipywidgets>=7.6.0->anywidget->MusicXMLWidgets==0.1.0) (0.19.1)\n",
      "Requirement already satisfied: matplotlib-inline in /opt/conda/lib/python3.11/site-packages (from ipython>=6.1.0->ipywidgets>=7.6.0->anywidget->MusicXMLWidgets==0.1.0) (0.1.6)\n",
      "Requirement already satisfied: pickleshare in /opt/conda/lib/python3.11/site-packages (from ipython>=6.1.0->ipywidgets>=7.6.0->anywidget->MusicXMLWidgets==0.1.0) (0.7.5)\n",
      "Requirement already satisfied: prompt-toolkit!=3.0.37,<3.1.0,>=3.0.30 in /opt/conda/lib/python3.11/site-packages (from ipython>=6.1.0->ipywidgets>=7.6.0->anywidget->MusicXMLWidgets==0.1.0) (3.0.39)\n",
      "Requirement already satisfied: pygments>=2.4.0 in /opt/conda/lib/python3.11/site-packages (from ipython>=6.1.0->ipywidgets>=7.6.0->anywidget->MusicXMLWidgets==0.1.0) (2.16.1)\n",
      "Requirement already satisfied: stack-data in /opt/conda/lib/python3.11/site-packages (from ipython>=6.1.0->ipywidgets>=7.6.0->anywidget->MusicXMLWidgets==0.1.0) (0.6.2)\n",
      "Requirement already satisfied: pexpect>4.3 in /opt/conda/lib/python3.11/site-packages (from ipython>=6.1.0->ipywidgets>=7.6.0->anywidget->MusicXMLWidgets==0.1.0) (4.8.0)\n",
      "Requirement already satisfied: parso<0.9.0,>=0.8.3 in /opt/conda/lib/python3.11/site-packages (from jedi>=0.16->ipython>=6.1.0->ipywidgets>=7.6.0->anywidget->MusicXMLWidgets==0.1.0) (0.8.3)\n",
      "Requirement already satisfied: ptyprocess>=0.5 in /opt/conda/lib/python3.11/site-packages (from pexpect>4.3->ipython>=6.1.0->ipywidgets>=7.6.0->anywidget->MusicXMLWidgets==0.1.0) (0.7.0)\n",
      "Requirement already satisfied: wcwidth in /opt/conda/lib/python3.11/site-packages (from prompt-toolkit!=3.0.37,<3.1.0,>=3.0.30->ipython>=6.1.0->ipywidgets>=7.6.0->anywidget->MusicXMLWidgets==0.1.0) (0.2.8)\n",
      "Requirement already satisfied: executing>=1.2.0 in /opt/conda/lib/python3.11/site-packages (from stack-data->ipython>=6.1.0->ipywidgets>=7.6.0->anywidget->MusicXMLWidgets==0.1.0) (1.2.0)\n",
      "Requirement already satisfied: asttokens>=2.1.0 in /opt/conda/lib/python3.11/site-packages (from stack-data->ipython>=6.1.0->ipywidgets>=7.6.0->anywidget->MusicXMLWidgets==0.1.0) (2.4.0)\n",
      "Requirement already satisfied: pure-eval in /opt/conda/lib/python3.11/site-packages (from stack-data->ipython>=6.1.0->ipywidgets>=7.6.0->anywidget->MusicXMLWidgets==0.1.0) (0.2.2)\n",
      "Requirement already satisfied: six>=1.12.0 in /opt/conda/lib/python3.11/site-packages (from asttokens>=2.1.0->stack-data->ipython>=6.1.0->ipywidgets>=7.6.0->anywidget->MusicXMLWidgets==0.1.0) (1.16.0)\n",
      "Installing collected packages: MusicXMLWidgets\n",
      "  Running setup.py develop for MusicXMLWidgets\n",
      "Successfully installed MusicXMLWidgets-0.1.0\n"
     ]
    }
   ],
   "source": [
    "!pip install -e ."
   ]
  },
  {
   "cell_type": "code",
   "execution_count": 1,
   "id": "e72224a0-0b4e-43a9-a5c1-39138d04e225",
   "metadata": {},
   "outputs": [],
   "source": [
    "def generateMusicXML( note):\n",
    "    musicXML = f\"\"\"<?xml version=\"1.0\" encoding=\"UTF-8\"?>\n",
    "    <score-partwise version=\"3.1\">\n",
    "        <part-list>\n",
    "            <score-part id=\"P1\">\n",
    "                <part-name>Music</part-name>\n",
    "            </score-part>\n",
    "        </part-list>\n",
    "        <part id=\"P1\">\n",
    "            <measure number=\"1\">\n",
    "                <attributes>\n",
    "                    <divisions>1</divisions>\n",
    "                    <key>\n",
    "                        <fifths>0</fifths>\n",
    "                    </key>\n",
    "                    <time>\n",
    "                        <beats>4</beats>\n",
    "                        <beat-type>4</beat-type>\n",
    "                    </time>\n",
    "                    <clef>\n",
    "                        <sign>G</sign>\n",
    "                        <line>2</line>\n",
    "                    </clef>\n",
    "                </attributes>\n",
    "                <note>\n",
    "                    <pitch>\n",
    "                        <step>{note}</step>\n",
    "                        <octave>4</octave>\n",
    "                    </pitch>\n",
    "                    <duration>1</duration>\n",
    "                    <type>quarter</type>\n",
    "                </note>\n",
    "            </measure>\n",
    "        </part>\n",
    "    </score-partwise>\n",
    "    \"\"\"\n",
    "    return musicXML"
   ]
  },
  {
   "cell_type": "code",
   "execution_count": 2,
   "id": "acea2058-dde0-44c8-9ec8-22f0d71f03ed",
   "metadata": {},
   "outputs": [
    {
     "data": {
      "application/vnd.jupyter.widget-view+json": {
       "model_id": "3055dccab28c4804bec3daff25952bba",
       "version_major": 2,
       "version_minor": 1
      },
      "text/plain": [
       "MusicXMLViewer(xml='<?xml version=\"1.0\" encoding=\"UTF-8\"?>\\n    <score-partwise version=\"3.1\">\\n        <part-…"
      ]
     },
     "execution_count": 2,
     "metadata": {},
     "output_type": "execute_result"
    }
   ],
   "source": [
    "from MusicXMLWidgets import MusicXMLViewer\n",
    "mxv = MusicXMLViewer()\n",
    "mxv.xml = generateMusicXML( 'G')\n",
    "mxv\n"
   ]
  },
  {
   "cell_type": "code",
   "execution_count": 3,
   "id": "c24b6a5a-c788-434c-8d64-bc2ef92aead9",
   "metadata": {},
   "outputs": [],
   "source": [
    "mxv.xml = generateMusicXML( 'D')"
   ]
  },
  {
   "cell_type": "code",
   "execution_count": 4,
   "id": "91d9a8ef-f184-4063-a714-1d1ffa0046f7",
   "metadata": {},
   "outputs": [
    {
     "data": {
      "application/vnd.jupyter.widget-view+json": {
       "model_id": "38918027f8c148ceafc2ab133ad5603d",
       "version_major": 2,
       "version_minor": 0
      },
      "text/plain": [
       "HBox(children=(MusicXMLPlayer(midi=b'MThd\\x00\\x00\\x00\\x06\\x00\\x01\\x00\\t\\x01\\xe0MTrk\\x00\\x00\\x00P\\x00\\xff\\x02*C…"
      ]
     },
     "execution_count": 4,
     "metadata": {},
     "output_type": "execute_result"
    }
   ],
   "source": [
    "import ipywidgets as widgets\n",
    "from MusicXMLWidgets import MusicXMLPlayer\n",
    "\n",
    "with open( './jazz2a.mid', 'rb') as f:\n",
    "    mw = MusicXMLPlayer( midi = f.read())\n",
    "    \n",
    "play = widgets.Play()\n",
    "widgets.jslink( (mw, 'msinterval'), (play, 'interval'))\n",
    "widgets.jslink( (mw, 'msduration'), (play, 'max'))\n",
    "widgets.jslink( (mw, 'msinterval'), (play, 'step'))\n",
    "widgets.jslink( (mw, 'msvalue'), (play, 'value'))\n",
    "\n",
    "slider = widgets.IntSlider()\n",
    "widgets.jslink((play, 'step'), (slider, 'step'))\n",
    "widgets.jslink((play, 'max'), (slider, 'max'))\n",
    "widgets.jslink((play, 'value'), (slider, 'value'))\n",
    "\n",
    "widgets.HBox([mw, play, slider])"
   ]
  },
  {
   "cell_type": "code",
   "execution_count": null,
   "id": "cfbb4e25-a113-45f6-b7c7-a986f78c6e10",
   "metadata": {},
   "outputs": [],
   "source": []
  }
 ],
 "metadata": {
  "kernelspec": {
   "display_name": "Python 3 (ipykernel)",
   "language": "python",
   "name": "python3"
  },
  "language_info": {
   "codemirror_mode": {
    "name": "ipython",
    "version": 3
   },
   "file_extension": ".py",
   "mimetype": "text/x-python",
   "name": "python",
   "nbconvert_exporter": "python",
   "pygments_lexer": "ipython3",
   "version": "3.11.6"
  }
 },
 "nbformat": 4,
 "nbformat_minor": 5
}
